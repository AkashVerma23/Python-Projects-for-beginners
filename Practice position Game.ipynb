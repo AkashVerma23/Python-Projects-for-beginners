{
 "cells": [
  {
   "cell_type": "code",
   "execution_count": 1,
   "metadata": {},
   "outputs": [],
   "source": [
    "def display_game(game_list):\n",
    "    print(\"Here is the current list: \")\n",
    "    print(game_list)"
   ]
  },
  {
   "cell_type": "code",
   "execution_count": 2,
   "metadata": {},
   "outputs": [],
   "source": [
    "def position_choice():\n",
    "    choice = 'wrong'\n",
    "    while choice not in ['0','1','2']:\n",
    "        choice = input(\"Pick a position to replace ('0','1','2'): \")\n",
    "        if choice not in ['0','1','2']:\n",
    "            print(\"Sorry, but you did not choose a valid position (0,1,2)\")\n",
    "    return int(choice)    "
   ]
  },
  {
   "cell_type": "code",
   "execution_count": 3,
   "metadata": {},
   "outputs": [],
   "source": [
    "def replacement_choice(game_list,position):\n",
    "    \n",
    "    user_placement = input(\"Type a string to place at the position\")\n",
    "    \n",
    "    game_list[position] = user_placement\n",
    "    \n",
    "    return game_list"
   ]
  },
  {
   "cell_type": "code",
   "execution_count": 4,
   "metadata": {},
   "outputs": [],
   "source": [
    "def gameon_choice():\n",
    "    choice = 'wrong'\n",
    "    while choice not in ['Y','N']:\n",
    "        choice = input(\"Would you like to keep playing, Y or N? \")\n",
    "        if choice not in ['Y','N']:\n",
    "            print(\"Sorry, I didn't understand. Please make sure to choose Y or N.\")\n",
    "    if choice == 'Y':\n",
    "        return True\n",
    "    else:\n",
    "        return False\n",
    "    "
   ]
  },
  {
   "cell_type": "code",
   "execution_count": 5,
   "metadata": {},
   "outputs": [
    {
     "name": "stdout",
     "output_type": "stream",
     "text": [
      "Here is the current list: \n",
      "[0, 1, 2]\n",
      "Pick a position to replace ('0','1','2'): dasda\n",
      "Sorry, but you did not choose a valid position (0,1,2)\n",
      "Pick a position to replace ('0','1','2'): 0\n",
      "Type a string to place at the positionakash\n",
      "Here is the current list: \n",
      "['akash', 1, 2]\n",
      "Would you like to keep playing, Y or N? Y\n",
      "Here is the current list: \n",
      "['akash', 1, 2]\n",
      "Pick a position to replace ('0','1','2'): 1\n",
      "Type a string to place at the positionKumar\n",
      "Here is the current list: \n",
      "['akash', 'Kumar', 2]\n",
      "Would you like to keep playing, Y or N? Y\n",
      "Here is the current list: \n",
      "['akash', 'Kumar', 2]\n",
      "Pick a position to replace ('0','1','2'): 2\n",
      "Type a string to place at the position\n",
      "Here is the current list: \n",
      "['akash', 'Kumar', '']\n",
      "Would you like to keep playing, Y or N? Y\n",
      "Here is the current list: \n",
      "['akash', 'Kumar', '']\n",
      "Pick a position to replace ('0','1','2'): 2\n",
      "Type a string to place at the positionVerma\n",
      "Here is the current list: \n",
      "['akash', 'Kumar', 'Verma']\n",
      "Would you like to keep playing, Y or N? N\n"
     ]
    }
   ],
   "source": [
    "game_on = True\n",
    "\n",
    "# First Game List\n",
    "game_list = [0,1,2]\n",
    "\n",
    "\n",
    "\n",
    "while game_on:\n",
    "    display_game(game_list)\n",
    "    \n",
    "    # Have player choose position\n",
    "    position = position_choice()\n",
    "    \n",
    "    # Rewrite that position and update game_list\n",
    "    game_list = replacement_choice(game_list,position)\n",
    "    display_game(game_list)\n",
    "    \n",
    "    # Ask if you want to keep playing\n",
    "    game_on = gameon_choice()"
   ]
  },
  {
   "cell_type": "code",
   "execution_count": 2,
   "metadata": {},
   "outputs": [],
   "source": [
    "def display_game(game_list):\n",
    "    print(\"Here is the current list\")\n",
    "    print(game_list)"
   ]
  },
  {
   "cell_type": "code",
   "execution_count": 8,
   "metadata": {},
   "outputs": [],
   "source": [
    "def position_choice():\n",
    "    \n",
    "    # This original choice value can be anything that isn't an integer\n",
    "    choice = 'wrong'\n",
    "    \n",
    "    # While the choice is not a digit, keep asking for input.\n",
    "    while choice not in ['0','1','2']:\n",
    "        \n",
    "        # we shouldn't convert here, otherwise we get an error on a wrong input\n",
    "        choice = input(\"Pick a position to replace (0,1,2): \")\n",
    "        \n",
    "        if choice not in ['0','1','2']:\n",
    "            # THIS CLEARS THE CURRENT OUTPUT BELOW THE CELL\n",
    "            \n",
    "            \n",
    "            print(\"Sorry, but you did not choose a valid position (0,1,2)\")\n",
    "            \n",
    "    \n",
    "    # Optionally you can clear everything after running the function\n",
    "    # clear_output()\n",
    "    \n",
    "    # We can convert once the while loop above has confirmed we have a digit.\n",
    "    return int(choice)"
   ]
  },
  {
   "cell_type": "code",
   "execution_count": 9,
   "metadata": {},
   "outputs": [],
   "source": [
    "def replacement_choice(game_list,position):\n",
    "    \n",
    "    user_placement = input(\"Type a string to place at the position\")\n",
    "    \n",
    "    game_list[position] = user_placement\n",
    "    \n",
    "    return game_list"
   ]
  },
  {
   "cell_type": "code",
   "execution_count": 10,
   "metadata": {},
   "outputs": [],
   "source": [
    "def gameon_choice():\n",
    "    \n",
    "    # This original choice value can be anything that isn't a Y or N\n",
    "    choice = 'wrong'\n",
    "    \n",
    "    # While the choice is not a digit, keep asking for input.\n",
    "    while choice not in ['Y','N']:\n",
    "        \n",
    "        # we shouldn't convert here, otherwise we get an error on a wrong input\n",
    "        choice = input(\"Would you like to keep playing? Y or N \")\n",
    "\n",
    "        \n",
    "        if choice not in ['Y','N']:\n",
    "            # THIS CLEARS THE CURRENT OUTPUT BELOW THE CELL\n",
    "            \n",
    "            print(\"Sorry, I didn't understand. Please make sure to choose Y or N.\")\n",
    "            \n",
    "    \n",
    "    # Optionally you can clear everything after running the function\n",
    "    # clear_output()\n",
    "    \n",
    "    if choice == \"Y\":\n",
    "        # Game is still on\n",
    "        return True\n",
    "    else:\n",
    "        # Game is over\n",
    "        return False\n"
   ]
  },
  {
   "cell_type": "code",
   "execution_count": 11,
   "metadata": {},
   "outputs": [
    {
     "name": "stdout",
     "output_type": "stream",
     "text": [
      "Here is the current list\n",
      "[0, 1, 2]\n",
      "Pick a position to replace (0,1,2): wqeww\n",
      "Sorry, but you did not choose a valid position (0,1,2)\n",
      "Pick a position to replace (0,1,2): 1\n",
      "Type a string to place at the position2112\n",
      "Here is the current list\n",
      "[0, '2112', 2]\n",
      "Would you like to keep playing? Y or N y\n",
      "Sorry, I didn't understand. Please make sure to choose Y or N.\n",
      "Would you like to keep playing? Y or N Y\n",
      "Here is the current list\n",
      "[0, '2112', 2]\n",
      "Pick a position to replace (0,1,2): 2\n",
      "Type a string to place at the position2w1w\n",
      "Here is the current list\n",
      "[0, '2112', '2w1w']\n",
      "Would you like to keep playing? Y or N N\n"
     ]
    }
   ],
   "source": [
    "# Variable to keep game playing\n",
    "game_on = True\n",
    "\n",
    "# First Game List\n",
    "game_list = [0,1,2]\n",
    "\n",
    "\n",
    "\n",
    "while game_on:\n",
    "    \n",
    "    # Clear any historical output and show the game list\n",
    "    display_game(game_list)\n",
    "    \n",
    "    # Have player choose position\n",
    "    position = position_choice()\n",
    "    \n",
    "    # Rewrite that position and update game_list\n",
    "    game_list = replacement_choice(game_list,position)\n",
    "    \n",
    "    # Clear Screen and show the updated game list\n",
    "    display_game(game_list)\n",
    "    \n",
    "    # Ask if you want to keep playing\n",
    "    game_on = gameon_choice()"
   ]
  },
  {
   "cell_type": "code",
   "execution_count": null,
   "metadata": {},
   "outputs": [],
   "source": []
  }
 ],
 "metadata": {
  "kernelspec": {
   "display_name": "Python 3",
   "language": "python",
   "name": "python3"
  },
  "language_info": {
   "codemirror_mode": {
    "name": "ipython",
    "version": 3
   },
   "file_extension": ".py",
   "mimetype": "text/x-python",
   "name": "python",
   "nbconvert_exporter": "python",
   "pygments_lexer": "ipython3",
   "version": "3.7.6"
  }
 },
 "nbformat": 4,
 "nbformat_minor": 4
}
